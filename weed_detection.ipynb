{
 "cells": [
  {
   "cell_type": "markdown",
   "metadata": {
    "id": "nckHxo2X9omh"
   },
   "source": [
    "# Install Dependencies"
   ]
  },
  {
   "cell_type": "markdown",
   "metadata": {
    "id": "FsOZ64A79xxV"
   },
   "source": [
    "## Install detectron2: (Colab has CUDA 10.1 + torch 1.7)\n",
    "See [Detectron2 Installation Guide](https://detectron2.readthedocs.io/tutorials/install.html) for instructions."
   ]
  },
  {
   "cell_type": "code",
   "execution_count": 1,
   "metadata": {},
   "outputs": [],
   "source": [
    "import torch, torchvision\n",
    "print(torch.__version__, torch.cuda.is_available())\n",
    "!gcc --version"
   ]
  },
  {
   "cell_type": "markdown",
   "metadata": {
    "id": "QSnnkzBj99Bh"
   },
   "source": [
    "## Setup Detectron2 Logger"
   ]
  },
  {
   "cell_type": "code",
   "execution_count": 2,
   "metadata": {},
   "outputs": [],
   "source": [
    "import detectron2\n",
    "# from detectron2.utils.logger import setup_logger\n",
    "# setup_logger()"
   ]
  },
  {
   "cell_type": "markdown",
   "metadata": {
    "id": "R6YqjyVL-AXP"
   },
   "source": [
    "## Import Some Common Libraries"
   ]
  },
  {
   "cell_type": "code",
   "execution_count": 3,
   "metadata": {},
   "outputs": [],
   "source": [
    "import numpy as np\n",
    "import os, json, random\n",
    "from google.colab.patches import cv2_imshow"
   ]
  },
  {
   "cell_type": "markdown",
   "metadata": {
    "id": "VETFTisS-E-I"
   },
   "source": [
    "## Import Some Common Detectron2 Utilities"
   ]
  },
  {
   "cell_type": "code",
   "execution_count": 4,
   "metadata": {},
   "outputs": [],
   "source": [
    "from detectron2.engine import DefaultPredictor\n",
    "from detectron2.config import get_cfg\n",
    "from detectron2.utils.visualizer import Visualizer\n",
    "from detectron2.data import MetadataCatalog, DatasetCatalog"
   ]
  },
  {
   "cell_type": "markdown",
   "metadata": {
    "id": "fHIUeuBHj4o7"
   },
   "source": [
    "## Mount Your Google Drive"
   ]
  },
  {
   "cell_type": "code",
   "execution_count": 5,
   "metadata": {},
   "outputs": [],
   "source": [
    "from google.colab import drive\n",
    "drive.mount('/content/drive/', force_remount=True)"
   ]
  },
  {
   "cell_type": "markdown",
   "metadata": {
    "id": "Mo_cgwrVsEUH"
   },
   "source": [
    "After mounting the drive, look in the Colab file explorer (at the left side of the browser by default)."
   ]
  },
  {
   "cell_type": "code",
   "execution_count": 6,
   "metadata": {},
   "outputs": [],
   "source": [
    "PATH_TO_IMGS = \"/content/drive/Shareddrives/Weed_Detection\""
   ]
  },
  {
   "cell_type": "markdown",
   "metadata": {
    "id": "tbZHXBhz82Mt"
   },
   "source": [
    "## Unzip Files"
   ]
  },
  {
   "cell_type": "code",
   "execution_count": 7,
   "metadata": {},
   "outputs": [],
   "source": [
    "!unzip \"/content/drive/Shareddrives/Weed_Detection/Testing_Data/1_1.zip\"\n",
    "!unzip \"/content/drive/Shareddrives/Weed_Detection/1_2.zip\""
   ]
  },
  {
   "cell_type": "markdown",
   "metadata": {
    "id": "4e9f3IGMXbDe"
   },
   "source": [
    "## Register COCO Instances"
   ]
  },
  {
   "cell_type": "code",
   "execution_count": 8,
   "metadata": {},
   "outputs": [],
   "source": [
    "from detectron2.data.datasets import register_coco_instances\n",
    "register_coco_instances(\"garden_training_set\", {}, \"/content/drive/Shareddrives/Weed_Detection/1_2.json\", \"/content/\")\n",
    "register_coco_instances(\"garden_testing_set\", {}, \"/content/drive/Shareddrives/Weed_Detection/Testing_Data/1_2.json\", \"/content/\")"
   ]
  }
 ],
 "metadata": {
  "kernelspec": {
   "display_name": "Python 3",
   "language": "python",
   "name": "python3"
  },
  "language_info": {
   "codemirror_mode": {
    "name": "ipython",
    "version": 3
   },
   "file_extension": ".py",
   "mimetype": "text/x-python",
   "name": "python",
   "nbconvert_exporter": "python",
   "pygments_lexer": "ipython3",
   "version": "3.8.10"
  }
 },
 "nbformat": 4,
 "nbformat_minor": 4
}
